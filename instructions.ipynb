{
 "cells": [
  {
   "cell_type": "markdown",
   "id": "d7751d24-77d9-4992-9653-87b57500a9fd",
   "metadata": {},
   "source": [
    "# Instructions for data class"
   ]
  },
  {
   "cell_type": "markdown",
   "id": "0e768003-cf81-4a3d-a204-f3cc10909e6e",
   "metadata": {},
   "source": [
    "Before using the software package import numpy and pandas as shown below:"
   ]
  },
  {
   "cell_type": "code",
   "execution_count": 1,
   "id": "1109e00d-955e-47bd-b43f-3aa1ae4a1f86",
   "metadata": {},
   "outputs": [],
   "source": [
    "import numpy as np \n",
    "import pandas as pd"
   ]
  },
  {
   "cell_type": "code",
   "execution_count": null,
   "id": "824d6b04-70d2-4a92-950a-f9f009bf3a08",
   "metadata": {},
   "outputs": [],
   "source": []
  }
 ],
 "metadata": {
  "kernelspec": {
   "display_name": "Python 3 (ipykernel)",
   "language": "python",
   "name": "python3"
  },
  "language_info": {
   "codemirror_mode": {
    "name": "ipython",
    "version": 3
   },
   "file_extension": ".py",
   "mimetype": "text/x-python",
   "name": "python",
   "nbconvert_exporter": "python",
   "pygments_lexer": "ipython3",
   "version": "3.9.12"
  }
 },
 "nbformat": 4,
 "nbformat_minor": 5
}
